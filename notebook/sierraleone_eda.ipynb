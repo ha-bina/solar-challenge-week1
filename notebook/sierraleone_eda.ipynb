{
 "cells": [
  {
   "cell_type": "code",
   "execution_count": null,
   "id": "476db534",
   "metadata": {},
   "outputs": [],
   "source": [
    "import pandas as pd\n",
    "#%pip install scipy\n",
    "\n",
    "df = pd.read_csv(\"sierraleone-bumbuna.csv\")  # example filename\n",
    "\n",
    "# Summary statistics\n",
    "df.describe()\n"
   ]
  },
  {
   "cell_type": "code",
   "execution_count": null,
   "id": "bbd52fb7",
   "metadata": {},
   "outputs": [],
   "source": [
    "# Missing value report\n",
    "missing = df.isna().sum()\n",
    "missing[missing > 0]\n",
    "\n",
    "# Columns with >5% missing\n",
    "threshold = 0.05 * len(df)\n",
    "missing[missing > threshold]\n",
    "# Drop columns with >5% missing\n"
   ]
  },
  {
   "cell_type": "code",
   "execution_count": null,
   "id": "e0f1ac16",
   "metadata": {},
   "outputs": [],
   "source": [
    "rom scipy.stats import zscore\n",
    "import numpy as np\n",
    "\n",
    "# Relevant columns\n",
    "cols = ['GHI', 'DNI', 'DHI', 'ModA', 'ModB', 'WS', 'WSgust']\n"
   ]
  },
  {
   "cell_type": "code",
   "execution_count": null,
   "id": "098603b7",
   "metadata": {},
   "outputs": [],
   "source": [
    "# Z-score method\n",
    "z_scores = df[cols].apply(zscore)\n",
    "outliers = (z_scores.abs() > 3) \n",
    "#View rows with outliers\n",
    "df[outliers.any(axis=1)]\n",
    "\n",
    "# Impute missing values"
   ]
  },
  {
   "cell_type": "code",
   "execution_count": null,
   "id": "1cc097ea",
   "metadata": {},
   "outputs": [],
   "source": [
    "f[cols] = df[cols].fillna(df[cols].median())\n",
    "\n",
    "df.to_csv(\"data/sierraleone_clean.csv\", index=False)\n",
    "#save the cleaned data\n"
   ]
  },
  {
   "cell_type": "code",
   "execution_count": null,
   "id": "f61aedb3",
   "metadata": {},
   "outputs": [],
   "source": [
    "#%pip install matplotlib\n",
    "import matplotlib.pyplot as plt\n",
    "df['Timestamp'] = pd.to_datetime(df['Timestamp'])\n",
    "df.set_index('Timestamp', inplace=True)\n",
    "# Plot GHI, DNI, DHI, Tamb over time\n",
    "df[['GHI', 'DNI', 'DHI', 'Tamb']].plot(figsize=(12,6), alpha=0.7)\n",
    "plt.title(\"Solar Irradiance & Temperature Over Time\")\n",
    "plt.ylabel(\"Value\")\n",
    "plt.show()\n"
   ]
  },
  {
   "cell_type": "code",
   "execution_count": null,
   "id": "31902649",
   "metadata": {},
   "outputs": [],
   "source": [
    "df.groupby('Cleaning')[['ModA', 'ModB']].mean().plot(kind='bar')\n",
    "plt.title(\"Sensor Readings Before & After Cleaning\")\n",
    "plt.show()\n"
   ]
  },
  {
   "cell_type": "code",
   "execution_count": null,
   "id": "5eab4efd",
   "metadata": {},
   "outputs": [],
   "source": [
    "#%pip install seaborn\n",
    "import seaborn as sns\n",
    "sns.heatmap(df[cols + ['TModA', 'TModB']].corr(), annot=True, cmap='coolwarm')\n",
    "plt.title(\"Correlation Heatmap\")\n",
    "plt.show()\n",
    "# Plotting histograms for each column\n"
   ]
  },
  {
   "cell_type": "code",
   "execution_count": null,
   "id": "41d58bbe",
   "metadata": {},
   "outputs": [],
   "source": [
    "sns.scatterplot(x='WS', y='GHI', data=df)\n",
    "sns.scatterplot(x='RH', y='Tamb', data=df)\n",
    "sns.scatterplot(x='RH', y='GHI', data=df)\n",
    "sns.scatterplot(x='WSgust', y='GHI', data=df)\n",
    "sns.scatterplot(x='WD', y='GHI', data=df)\n",
    "plt.figure(figsize=(15, 10))\n",
    "plt.show()\n"
   ]
  },
  {
   "cell_type": "code",
   "execution_count": null,
   "id": "5431a5c4",
   "metadata": {},
   "outputs": [],
   "source": [
    "%pip install windrose\n",
    "from windrose import WindroseAxes\n",
    "ax = WindroseAxes.from_ax()\n",
    "ax.bar(df['WD'], df['WS'], normed=True, opening=0.8, edgecolor='white')\n",
    "ax.set_legend()\n",
    "df[['GHI', 'WS']].hist(bins=30, figsize=(10,4))\n",
    "sns.scatterplot(x='RH', y='Tamb', hue='GHI', data=df)\n",
    "plt.title(\"Scatter Plot of RH vs Tamb with GHI Color Coding\")\n",
    "plt.xlabel(\"Relative Humidity (RH)\")\n",
    "plt.ylabel(\"Ambient Temperature (Tamb)\")\n",
    "plt.show()\n"
   ]
  },
  {
   "cell_type": "code",
   "execution_count": null,
   "id": "34a61826",
   "metadata": {},
   "outputs": [],
   "source": [
    "plt.figure(figsize=(10,6))\n",
    "plt.scatter(df['GHI'], df['Tamb'], s=df['RH'], alpha=0.5)\n",
    "plt.xlabel('GHI')\n",
    "plt.ylabel('Tamb')\n",
    "plt.title('Bubble Chart: GHI vs Tamb (Bubble = RH)')\n"
   ]
  }
 ],
 "metadata": {
  "language_info": {
   "name": "python"
  }
 },
 "nbformat": 4,
 "nbformat_minor": 5
}
