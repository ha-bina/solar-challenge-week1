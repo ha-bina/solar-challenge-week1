{
 "cells": [
  {
   "cell_type": "code",
   "execution_count": 49,
   "id": "79b8c529",
   "metadata": {},
   "outputs": [
    {
     "name": "stdout",
     "output_type": "stream",
     "text": [
      "Requirement already satisfied: pandas in c:\\users\\yohanan\\solar-challenge-week1\\.venv\\lib\\site-packages (2.2.3)\n",
      "Requirement already satisfied: numpy>=1.26.0 in c:\\users\\yohanan\\solar-challenge-week1\\.venv\\lib\\site-packages (from pandas) (2.2.6)\n",
      "Requirement already satisfied: python-dateutil>=2.8.2 in c:\\users\\yohanan\\solar-challenge-week1\\.venv\\lib\\site-packages (from pandas) (2.9.0.post0)\n",
      "Requirement already satisfied: pytz>=2020.1 in c:\\users\\yohanan\\solar-challenge-week1\\.venv\\lib\\site-packages (from pandas) (2025.2)\n",
      "Requirement already satisfied: tzdata>=2022.7 in c:\\users\\yohanan\\solar-challenge-week1\\.venv\\lib\\site-packages (from pandas) (2025.2)\n",
      "Requirement already satisfied: six>=1.5 in c:\\users\\yohanan\\solar-challenge-week1\\.venv\\lib\\site-packages (from python-dateutil>=2.8.2->pandas) (1.17.0)\n",
      "Note: you may need to restart the kernel to use updated packages.\n"
     ]
    },
    {
     "name": "stderr",
     "output_type": "stream",
     "text": [
      "\n",
      "[notice] A new release of pip is available: 25.0.1 -> 25.1.1\n",
      "[notice] To update, run: python.exe -m pip install --upgrade pip\n"
     ]
    },
    {
     "data": {
      "text/plain": [
       "Comments    525600\n",
       "dtype: int64"
      ]
     },
     "execution_count": 49,
     "metadata": {},
     "output_type": "execute_result"
    }
   ],
   "source": [
    "%pip install pandas\n",
    "import pandas as pd\n",
    "#Summary Statistics & Missing-Value Report\n",
    "df = pd.read_csv(\"benin-malanville.csv\")  \n",
    "df.describe()\n",
    "missing = df.isna().sum()\n",
    "missing[missing > 0]\n"
   ]
  },
  {
   "cell_type": "code",
   "execution_count": 50,
   "id": "182e8ff0",
   "metadata": {},
   "outputs": [
    {
     "data": {
      "text/plain": [
       "Comments    525600\n",
       "dtype: int64"
      ]
     },
     "execution_count": 50,
     "metadata": {},
     "output_type": "execute_result"
    }
   ],
   "source": [
    "\n",
    "# Columns with >5% missing\n",
    "threshold = 0.05 * len(df)\n",
    "missing[missing > threshold]\n"
   ]
  },
  {
   "cell_type": "code",
   "execution_count": 51,
   "id": "64c1adc4",
   "metadata": {},
   "outputs": [],
   "source": [
    "#Outlier Detection & Basic Cleaning\n",
    "#%pip install scipy\n",
    "from scipy.stats import zscore\n",
    "import numpy as np\n",
    "\n",
    "# Relevant columns\n",
    "cols = ['GHI', 'DNI', 'DHI', 'ModA', 'ModB', 'WS', 'WSgust']\n",
    "\n",
    "# Z-score method\n",
    "z_scores = df[cols].apply(zscore)\n",
    "outliers = (z_scores.abs() > 3)\n",
    "\n",
    "# View rows with outliers\n",
    "df[outliers.any(axis=1)]\n",
    "# Impute missing values\n",
    "df[cols] = df[cols].fillna(df[cols].median())\n",
    "\n"
   ]
  },
  {
   "cell_type": "code",
   "execution_count": null,
   "id": "6292e826",
   "metadata": {},
   "outputs": [],
   "source": []
  }
 ],
 "metadata": {
  "kernelspec": {
   "display_name": ".venv",
   "language": "python",
   "name": "python3"
  },
  "language_info": {
   "codemirror_mode": {
    "name": "ipython",
    "version": 3
   },
   "file_extension": ".py",
   "mimetype": "text/x-python",
   "name": "python",
   "nbconvert_exporter": "python",
   "pygments_lexer": "ipython3",
   "version": "3.13.3"
  }
 },
 "nbformat": 4,
 "nbformat_minor": 5
}
